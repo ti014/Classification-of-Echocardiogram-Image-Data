{
 "cells": [
  {
   "cell_type": "code",
   "execution_count": 1,
   "metadata": {},
   "outputs": [],
   "source": [
    "import numpy as np\n",
    "import os\n",
    "from glob import glob"
   ]
  },
  {
   "cell_type": "code",
   "execution_count": 2,
   "metadata": {},
   "outputs": [
    {
     "name": "stdout",
     "output_type": "stream",
     "text": [
      "Training images:  6717\n"
     ]
    }
   ],
   "source": [
    "path = 'DATA_CHAMBER_2021'\n",
    "\n",
    "files_training = glob(os.path.join(path, 'train', '*/*.*'))\n",
    "num_imgs = len(files_training)\n",
    "print(\"Training images: \", num_imgs)"
   ]
  },
  {
   "cell_type": "code",
   "execution_count": 3,
   "metadata": {},
   "outputs": [
    {
     "name": "stdout",
     "output_type": "stream",
     "text": [
      "class             count\n",
      "----------------------\n",
      "  0 2C                  2377\n",
      "  1 3C                  2309\n",
      "  2 4C                  2031\n",
      "\n",
      "\n",
      "Total class:  3\n"
     ]
    }
   ],
   "source": [
    "print(\"{:18s}\".format('class'), end='')\n",
    "print('count')\n",
    "print('-'*22)\n",
    "\n",
    "class_names=[]\n",
    "for i, folder in enumerate(os.listdir(os.path.join(path, 'train'))):\n",
    "    num = len(os.listdir(os.path.join(path, 'train', folder)))\n",
    "    print('{:3d} {:20s}'.format(i, folder), end='')\n",
    "    print(num)\n",
    "    class_names.append(folder)\n",
    "print(\"\\n\\nTotal class: \", len(class_names))"
   ]
  },
  {
   "cell_type": "code",
   "execution_count": 4,
   "metadata": {},
   "outputs": [],
   "source": [
    "import torch\n",
    "from torchvision import transforms\n",
    "from torchvision.datasets import ImageFolder\n",
    "\n",
    "tensor_transform = transforms.Compose([\n",
    "    transforms.Resize((100, 100)),\n",
    "    transforms.ToTensor()\n",
    "])\n",
    "\n",
    "all_data = ImageFolder(os.path.join(path, 'train'), tensor_transform)\n",
    "\n",
    "data_loader = torch.utils.data.DataLoader(all_data, batch_size=512, shuffle=True)"
   ]
  },
  {
   "cell_type": "code",
   "execution_count": 5,
   "metadata": {},
   "outputs": [
    {
     "name": "stdout",
     "output_type": "stream",
     "text": [
      "[0.13286795 0.12811892 0.1291355 ]\n",
      "[0.20658939 0.20181921 0.20303585]\n"
     ]
    }
   ],
   "source": [
    "tol_mean = []\n",
    "tol_std = []\n",
    "\n",
    "for i, data in enumerate(data_loader):\n",
    "    # tensor to numpy\n",
    "    numpy_image = data[0].numpy()\n",
    "\n",
    "    # compute mean and standard devation\n",
    "    # axis=023 bcs data[0] size is (batchsize, channels, width, height)\n",
    "    # so we want to compute mean and std of 3 channels\n",
    "    batch_mean = np.mean(numpy_image, axis=(0,2,3))\n",
    "    batch_std = np.std(numpy_image, axis=(0,2,3))\n",
    "\n",
    "    tol_mean.append(batch_mean)\n",
    "    tol_std.append(batch_std)\n",
    "    \n",
    "tol_mean = np.array(tol_mean).mean(axis=0)\n",
    "tol_std = np.array(tol_std).mean(axis=0)\n",
    "print(tol_mean)\n",
    "print(tol_std)"
   ]
  },
  {
   "cell_type": "code",
   "execution_count": 6,
   "metadata": {},
   "outputs": [],
   "source": [
    "tol_mean = [0.13285483, 0.12812747, 0.12914398]\n",
    "tol_std = [0.20637107, 0.2016242,  0.20284693]"
   ]
  },
  {
   "cell_type": "code",
   "execution_count": 7,
   "metadata": {},
   "outputs": [
    {
     "name": "stdout",
     "output_type": "stream",
     "text": [
      "Number of valid images after split: 1343\n",
      "Number of train images after split: 5374\n"
     ]
    }
   ],
   "source": [
    "np.random.seed(0)\n",
    "shuffle = np.random.permutation(num_imgs)\n",
    "split_val = int(num_imgs*0.2)\n",
    "print('Number of valid images after split:',len(shuffle[:split_val]))\n",
    "print('Number of train images after split:',len(shuffle[split_val:]))"
   ]
  },
  {
   "cell_type": "code",
   "execution_count": 9,
   "metadata": {},
   "outputs": [],
   "source": [
    "from PIL import Image\n",
    "from torch.utils.data import Dataset\n",
    "\n",
    "class TrainDataset(Dataset):\n",
    "    def __init__(self, files, shuffle, spilit_val, class_names, transform=transforms.ToTensor()):\n",
    "        self.class_names = class_names\n",
    "        self.transform = transform\n",
    "        self.data = np.array([files[i] for i in shuffle[spilit_val:]])\n",
    "    def __len__(self):\n",
    "        return len(self.data)\n",
    "    def __getitem__(self, idx):\n",
    "        img = Image.open(self.data[idx])\n",
    "        img = self.transform(img)\n",
    "        name = self.data[idx].split('/')[-2]\n",
    "        y = self.class_names.index(name)\n",
    "        return img, y\n",
    "\n",
    "class ValidDataset(Dataset):\n",
    "    def __init__(self, files, shuffle, spilit_val, class_names, transform=transforms.ToTensor()):\n",
    "        self.class_names = class_names\n",
    "        self.transform = transform\n",
    "        self.data = np.array([files[i] for i in shuffle[:spilit_val]])\n",
    "    def __len__(self):\n",
    "        return len(self.data)\n",
    "    def __getitem__(self, idx):\n",
    "        img = Image.open(self.data[idx])\n",
    "        img = self.transform(img)\n",
    "        name = self.data[idx].split('/')[-2]\n",
    "        y = self.class_names.index(name) \n",
    "        return img, y\n",
    "\n",
    "class TestDataset(Dataset):\n",
    "    def __init__(self, path, class_names, transform=transforms.ToTensor()):\n",
    "        self.class_names = class_names\n",
    "        self.transform = transform\n",
    "        self.data = np.array(glob(os.path.join(path, 'test', '*/*.*')))\n",
    "    def __len__(self):\n",
    "        return len(self.data)\n",
    "    def __getitem__(self, idx):\n",
    "        img = Image.open(self.data[idx])\n",
    "        img = self.transform(img)\n",
    "        name = self.data[idx].split('/')[-2]\n",
    "        y = self.class_names.index(name)\n",
    "        return img, y"
   ]
  },
  {
   "cell_type": "code",
   "execution_count": 10,
   "metadata": {},
   "outputs": [],
   "source": [
    "data_transform = {\n",
    "    'train' : transforms.Compose([\n",
    "        transforms.Resize((100, 100)),\n",
    "        transforms.RandomHorizontalFlip(),\n",
    "        transforms.RandomVerticalFlip(),\n",
    "        transforms.ToTensor(),\n",
    "        transforms.Normalize(tol_mean, tol_std)\n",
    "    ]),\n",
    "    'valid' : transforms.Compose([\n",
    "        transforms.Resize((100, 100)),\n",
    "        transforms.ToTensor(),\n",
    "        transforms.Normalize(tol_mean, tol_std)\n",
    "    ]),\n",
    "    'test' : transforms.Compose([\n",
    "        transforms.Resize((100, 100)),\n",
    "        transforms.ToTensor(),\n",
    "        transforms.Normalize(tol_mean, tol_std)\n",
    "\n",
    "    ])\n",
    "}\n",
    "test_dataset = TestDataset(path, class_names, data_transform['test'])\n",
    "test_loader = torch.utils.data.DataLoader(test_dataset, batch_size=64, shuffle=True)"
   ]
  },
  {
   "cell_type": "code",
   "execution_count": 11,
   "metadata": {},
   "outputs": [],
   "source": [
    "train_dataset = TrainDataset(files_training, shuffle, \n",
    "                                split_val, class_names, data_transform['train'])\n",
    "valid_dataset = ValidDataset(files_training, shuffle,\n",
    "                                split_val, class_names, data_transform['valid'])\n",
    "test_dataset = TestDataset(path, class_names, data_transform['test'])\n",
    "\n",
    "train_loader = torch.utils.data.DataLoader(train_dataset, batch_size=64, shuffle=True)\n",
    "valid_loader = torch.utils.data.DataLoader(valid_dataset, batch_size=64, shuffle=True)\n",
    "test_loader = torch.utils.data.DataLoader(test_dataset, batch_size=64, shuffle=True)"
   ]
  },
  {
   "cell_type": "code",
   "execution_count": 12,
   "metadata": {},
   "outputs": [],
   "source": [
    "dataloader = {\n",
    "    'train' : train_loader,\n",
    "    'valid' : valid_loader,\n",
    "    'test' : test_loader\n",
    "}\n",
    "\n",
    "dataset = {\n",
    "    'train' : train_dataset,\n",
    "    'valid' : valid_dataset,\n",
    "    'test' : test_dataset\n",
    "}"
   ]
  },
  {
   "cell_type": "code",
   "execution_count": 13,
   "metadata": {},
   "outputs": [
    {
     "name": "stdout",
     "output_type": "stream",
     "text": [
      "(100, 100, 3)\n"
     ]
    },
    {
     "data": {
      "image/png": "[encoded data removed]",
      "text/plain": [
       "<Figure size 432x288 with 1 Axes>"
      ]
     },
     "metadata": {
      "needs_background": "light"
     },
     "output_type": "display_data"
    }
   ],
   "source": [
    "import matplotlib.pyplot as plt\n",
    "\n",
    "for images, labels in train_loader:\n",
    "    images = images.numpy()\n",
    "    temp = images[0].transpose((1,2,0))\n",
    "    print(temp.shape)\n",
    "    temp = temp * tol_std + tol_mean\n",
    "    temp = np.clip(temp, 0, 1)\n",
    "    plt.imshow(temp)\n",
    "    plt.title(class_names[labels.numpy()[0]])\n",
    "    break\n",
    "    "
   ]
  },
  {
   "cell_type": "code",
   "execution_count": 14,
   "metadata": {},
   "outputs": [],
   "source": [
    "import torchvision\n",
    "import torch.optim as optim\n",
    "from torch import nn\n",
    "\n",
    "model = torchvision.models.resnet18(pretrained=False)\n",
    "model.fc = torch.nn.modules.linear.Linear(in_features=512, out_features=3, bias=True) \n",
    "criterion = nn.CrossEntropyLoss()\n",
    "optimizer = optim.SGD(model.parameters(), lr=0.01)\n",
    "exp_scheduler = torch.optim.lr_scheduler.StepLR(optimizer, step_size=7, gamma=0.1)\n",
    "# lr = lr/0.1 for each 7 epoch"
   ]
  },
  {
   "cell_type": "code",
   "execution_count": 16,
   "metadata": {},
   "outputs": [
    {
     "name": "stdout",
     "output_type": "stream",
     "text": [
      "\n",
      "Epoch 0/29:\n",
      "train Loss: 1.017268 Accuracy: 0.486416\n",
      "valid Loss: 0.912271 Accuracy: 0.600893\n",
      "\n",
      "Epoch 1/29:\n",
      "train Loss: 0.705286 Accuracy: 0.739859\n",
      "valid Loss: 0.576550 Accuracy: 0.795235\n",
      "\n",
      "Epoch 2/29:\n",
      "train Loss: 0.398944 Accuracy: 0.878489\n",
      "valid Loss: 0.346406 Accuracy: 0.887565\n",
      "\n",
      "Epoch 3/29:\n",
      "train Loss: 0.198723 Accuracy: 0.951805\n",
      "valid Loss: 0.142050 Accuracy: 0.976173\n",
      "\n",
      "Epoch 4/29:\n",
      "train Loss: 0.095358 Accuracy: 0.983811\n",
      "valid Loss: 0.063236 Accuracy: 0.994043\n",
      "\n",
      "Epoch 5/29:\n",
      "train Loss: 0.050428 Accuracy: 0.994604\n",
      "valid Loss: 0.052398 Accuracy: 0.996277\n",
      "\n",
      "Epoch 6/29:\n",
      "train Loss: 0.048101 Accuracy: 0.994790\n",
      "valid Loss: 0.049254 Accuracy: 0.996277\n",
      "\n",
      "Epoch 7/29:\n",
      "train Loss: 0.043795 Accuracy: 0.995906\n",
      "valid Loss: 0.045514 Accuracy: 0.996277\n",
      "\n",
      "Epoch 8/29:\n",
      "train Loss: 0.040607 Accuracy: 0.996092\n",
      "valid Loss: 0.043895 Accuracy: 0.997022\n",
      "\n",
      "Epoch 9/29:\n",
      "train Loss: 0.037243 Accuracy: 0.996651\n",
      "valid Loss: 0.040868 Accuracy: 0.997022\n",
      "\n",
      "Epoch 10/29:\n",
      "train Loss: 0.034987 Accuracy: 0.998139\n",
      "valid Loss: 0.037831 Accuracy: 0.997766\n",
      "\n",
      "Epoch 11/29:\n",
      "train Loss: 0.033190 Accuracy: 0.998139\n",
      "valid Loss: 0.037185 Accuracy: 0.997766\n",
      "\n",
      "Epoch 12/29:\n",
      "train Loss: 0.031493 Accuracy: 0.997953\n",
      "valid Loss: 0.035420 Accuracy: 0.997766\n",
      "\n",
      "Epoch 13/29:\n",
      "train Loss: 0.033036 Accuracy: 0.997767\n",
      "valid Loss: 0.035540 Accuracy: 0.997022\n",
      "\n",
      "Epoch 14/29:\n",
      "train Loss: 0.029584 Accuracy: 0.999256\n",
      "valid Loss: 0.035785 Accuracy: 0.997022\n",
      "\n",
      "Epoch 15/29:\n",
      "train Loss: 0.030702 Accuracy: 0.997395\n",
      "valid Loss: 0.035001 Accuracy: 0.997766\n",
      "\n",
      "Epoch 16/29:\n",
      "train Loss: 0.029516 Accuracy: 0.998883\n",
      "valid Loss: 0.035460 Accuracy: 0.997022\n",
      "\n",
      "Epoch 17/29:\n",
      "train Loss: 0.030417 Accuracy: 0.998883\n",
      "valid Loss: 0.035451 Accuracy: 0.997022\n",
      "\n",
      "Epoch 18/29:\n",
      "train Loss: 0.029953 Accuracy: 0.998325\n",
      "valid Loss: 0.035297 Accuracy: 0.997022\n",
      "\n",
      "Epoch 19/29:\n",
      "train Loss: 0.029209 Accuracy: 0.998883\n",
      "valid Loss: 0.034799 Accuracy: 0.997022\n",
      "\n",
      "Epoch 20/29:\n",
      "train Loss: 0.029949 Accuracy: 0.999256\n",
      "valid Loss: 0.035202 Accuracy: 0.997022\n",
      "\n",
      "Epoch 21/29:\n",
      "train Loss: 0.031374 Accuracy: 0.997953\n",
      "valid Loss: 0.034934 Accuracy: 0.997766\n",
      "\n",
      "Epoch 22/29:\n",
      "train Loss: 0.029793 Accuracy: 0.998325\n",
      "valid Loss: 0.035188 Accuracy: 0.997766\n",
      "\n",
      "Epoch 23/29:\n",
      "train Loss: 0.029798 Accuracy: 0.997581\n",
      "valid Loss: 0.035424 Accuracy: 0.997022\n",
      "\n",
      "Epoch 24/29:\n",
      "train Loss: 0.031390 Accuracy: 0.997953\n",
      "valid Loss: 0.034520 Accuracy: 0.997766\n",
      "\n",
      "Epoch 25/29:\n",
      "train Loss: 0.029532 Accuracy: 0.998139\n",
      "valid Loss: 0.034868 Accuracy: 0.997022\n",
      "\n",
      "Epoch 26/29:\n",
      "train Loss: 0.032184 Accuracy: 0.998511\n",
      "valid Loss: 0.034753 Accuracy: 0.997022\n",
      "\n",
      "Epoch 27/29:\n",
      "train Loss: 0.029964 Accuracy: 0.998511\n",
      "valid Loss: 0.034277 Accuracy: 0.997766\n",
      "\n",
      "Epoch 28/29:\n",
      "train Loss: 0.031295 Accuracy: 0.998511\n",
      "valid Loss: 0.035220 Accuracy: 0.997022\n",
      "\n",
      "Epoch 29/29:\n",
      "train Loss: 0.031449 Accuracy: 0.997209\n",
      "valid Loss: 0.035333 Accuracy: 0.997022\n",
      "\n",
      "Complete training in 1h 25m\n"
     ]
    }
   ],
   "source": [
    "dataloader = {\n",
    "    'train' : train_loader,\n",
    "    'valid' : valid_loader,\n",
    "    'test' : test_loader\n",
    "}\n",
    "\n",
    "dataset = {\n",
    "    'train' : train_dataset,\n",
    "    'valid' : valid_dataset,\n",
    "    'test' : test_dataset\n",
    "}\n",
    "\n",
    "import time\n",
    "import copy\n",
    "\n",
    "def fit(model, criterion, optimizer, scheduler, num_epochs=30):\n",
    "\n",
    "    history = {\n",
    "        'train': list(),\n",
    "        'valid': list()\n",
    "    }\n",
    "\n",
    "    history_acc = {\n",
    "        'train': list(),\n",
    "        'valid': list()\n",
    "    }\n",
    "\n",
    "    begin = time.time()\n",
    "    best_acc = 0.0\n",
    "    for epoch in range(num_epochs):\n",
    "        print(\"\\nEpoch {}/{}:\".format(epoch, num_epochs-1))\n",
    "\n",
    "        for phase in ['train', 'valid']:\n",
    "            if phase == 'train':\n",
    "                scheduler.step()\n",
    "                model.train() # enable dropout & batchnorm\n",
    "            else:\n",
    "                model.eval() # disable dropout & batchnorm\n",
    "\n",
    "            running_loss = 0.0\n",
    "            running_acc = 0\n",
    "            for inputs, labels in dataloader[phase]:\n",
    "                \n",
    "                optimizer.zero_grad()\n",
    "                \n",
    "                with torch.set_grad_enabled(phase == 'train'):\n",
    "                    outputs = model(inputs)\n",
    "                    _, preds = torch.max(outputs, 1)\n",
    "                    # max with dim=1, return: value & index\n",
    "                    # just need index to compare with labels\n",
    "\n",
    "                    loss = criterion(outputs, labels)\n",
    "\n",
    "                    if phase == 'train':\n",
    "                        loss.backward()\n",
    "                        optimizer.step()\n",
    "                running_loss += loss.item() * inputs.size(0)\n",
    "                running_acc += torch.sum(preds == labels)\n",
    "\n",
    "            phase_loss = running_loss / len(dataset[phase])\n",
    "            history[phase].append(phase_loss)\n",
    "            phase_acc = running_acc / len(dataset[phase])\n",
    "            history_acc[phase].append(float(phase_acc))\n",
    "\n",
    "            print(\"{} Loss: {:4f} Accuracy: {:4f}\".format(phase, phase_loss, phase_acc))\n",
    "\n",
    "            if phase == 'valid' and phase_acc > best_acc:\n",
    "                best_acc = phase_acc\n",
    "                best_model = copy.deepcopy(model.state_dict())\n",
    "\n",
    "    end = time.time() - begin\n",
    "    h = end//3600\n",
    "    m = (end - h*3600)//60\n",
    "    print(\"\\nComplete training in {:.0f}h {:.0f}m\".format(h, m))\n",
    "\n",
    "    import json\n",
    "\n",
    "    history_file = open('history_acc.json', \"w\")\n",
    "    json.dump(history_acc, history_file)\n",
    "    history_file.close()\n",
    "\n",
    "    history_file = open('history.json', \"w\")\n",
    "    json.dump(history, history_file)\n",
    "    history_file.close()\n",
    "    \n",
    "    model.load_state_dict(best_model)\n",
    "    return model\n",
    "                \n",
    "model = fit(model, criterion, optimizer, exp_scheduler, num_epochs=30)"
   ]
  },
  {
   "cell_type": "code",
   "execution_count": 18,
   "metadata": {},
   "outputs": [
    {
     "data": {
      "image/png": "[encoded data removed]",
      "text/plain": [
       "<Figure size 432x288 with 1 Axes>"
      ]
     },
     "metadata": {
      "needs_background": "light"
     },
     "output_type": "display_data"
    }
   ],
   "source": [
    "import json\n",
    "\n",
    "history_path = 'history.json'\n",
    "\n",
    "history_file = open(history_path, \"r\")\n",
    "history = history_file.read()\n",
    "history_file.close()\n",
    "\n",
    "history = json.loads(history)\n",
    "\n",
    "import matplotlib.pyplot as plt\n",
    "plt.plot(history['train'])\n",
    "plt.plot(history['valid'])\n",
    "plt.legend(['train loss', 'valid loss'])\n",
    "plt.show()"
   ]
  },
  {
   "cell_type": "code",
   "execution_count": 21,
   "metadata": {},
   "outputs": [
    {
     "data": {
      "image/png": "[encoded data removed]",
      "text/plain": [
       "<Figure size 432x288 with 1 Axes>"
      ]
     },
     "metadata": {
      "needs_background": "light"
     },
     "output_type": "display_data"
    }
   ],
   "source": [
    "import json\n",
    "\n",
    "history_path = 'history_acc.json'\n",
    "\n",
    "history_file = open(history_path, \"r\")\n",
    "history = history_file.read()\n",
    "history_file.close()\n",
    "\n",
    "history = json.loads(history)\n",
    "\n",
    "import matplotlib.pyplot as plt\n",
    "plt.plot(history['train'])\n",
    "plt.plot(history['valid'])\n",
    "plt.legend(['train accuracy', 'valid accuracy'],)\n",
    "plt.show()"
   ]
  },
  {
   "cell_type": "code",
   "execution_count": 20,
   "metadata": {},
   "outputs": [
    {
     "name": "stdout",
     "output_type": "stream",
     "text": [
      "tensor([0, 1, 1, 2, 0, 1, 2, 1, 2, 2, 1, 1, 0, 1, 0, 2, 2, 2, 1, 1, 2, 1, 1, 0,\n",
      "        2, 2, 0, 2, 2, 1, 1, 2, 0, 1, 1, 1, 1, 0, 1, 0, 2, 1, 0, 2, 1, 1, 2, 1,\n",
      "        1, 2, 1, 2, 1, 0, 0, 2, 2, 2, 1, 1, 2, 1, 1, 2])\n",
      "tensor([0, 2, 0, 0, 2, 0, 2, 1, 0, 0, 1, 2, 2, 1, 1, 1, 0, 1, 2, 0, 2, 1, 0, 0,\n",
      "        2, 1, 1, 2, 2, 0, 1, 2, 2, 1, 1, 2, 1, 2, 1, 2, 1, 0, 2, 2, 2, 0, 1, 0,\n",
      "        1, 2, 1, 0, 1, 1, 0, 2, 0, 2, 1, 2, 0, 0, 0, 1])\n",
      "tensor([1, 2, 1, 1, 2, 0, 1, 2, 2, 2, 2, 1, 0, 1, 1, 2, 2, 1, 1, 2, 1, 1, 0, 1,\n",
      "        0, 2, 1, 1, 2, 0, 0, 1, 2, 0, 1, 2, 0, 1, 1, 0, 2, 0, 0, 1, 2, 1, 2, 0,\n",
      "        2, 1, 0, 0, 1, 1, 2, 1, 0, 2, 0, 1, 2, 1, 2, 2])\n",
      "tensor([2, 2, 1, 2, 1, 2, 1, 2, 1, 0, 0, 1, 0, 2, 0, 0, 1, 1, 2, 0, 1, 0, 0, 2,\n",
      "        2, 1, 0, 1, 2, 0, 2, 2, 2, 2, 2, 1, 2, 1, 2, 2, 1, 0, 1, 0, 2, 2, 2, 1,\n",
      "        2, 1, 0, 2, 1, 0, 2, 1, 2, 2, 2, 1, 0, 1, 2, 1])\n",
      "tensor([2, 0, 0, 0, 0, 1, 2, 0, 0, 1, 0, 1, 2, 0, 0, 0, 1, 2, 1, 2, 2, 2, 2, 0,\n",
      "        0, 2, 0, 2, 2, 2, 1, 1, 1, 2, 2, 0, 0, 2, 1, 1, 2, 1, 2, 0, 1, 1, 2, 1,\n",
      "        1, 2, 0, 2, 1, 2, 0, 2, 0, 1, 1, 0, 0, 0, 1, 2])\n",
      "tensor([0, 2, 1, 1, 2, 0, 2, 0, 0, 2, 2, 2, 0, 1, 0, 0, 2, 0, 1, 0, 2, 0, 0, 0,\n",
      "        2, 0, 2, 0, 1, 2, 2, 0, 1, 1, 1, 2, 2, 2, 1, 1, 2, 0, 0, 1, 2, 2, 1, 1,\n",
      "        2, 1, 2, 2, 1, 0, 2, 1, 1, 1, 0, 1, 1, 1, 2, 1])\n",
      "tensor([0, 2, 1, 0, 0, 0, 1, 2, 1, 2, 0, 1, 1, 0, 0, 2, 2, 2, 0, 1, 0, 2, 2, 2,\n",
      "        1, 1, 2, 2, 2, 1, 2, 2, 1, 0, 2, 1, 2, 1, 2, 0, 1, 2, 1, 2, 2, 1, 0, 2,\n",
      "        2, 1, 1, 1, 0, 2, 2, 0, 1, 1, 1, 1, 1, 1, 0, 1])\n",
      "tensor([2, 2, 0, 2, 0, 1, 2, 2, 1, 2, 2, 0, 2, 1, 2, 1, 2, 1, 0, 2, 2, 1, 0, 1,\n",
      "        2, 1, 0, 0, 0, 2, 1, 0, 2, 1, 0, 0, 1, 2, 1, 1, 0, 2, 1, 2, 1, 0, 1, 1,\n",
      "        2, 2, 0, 2, 2, 1, 0, 0, 1, 0, 1, 2, 1, 1, 0, 0])\n",
      "tensor([0, 1, 2, 2, 2, 2, 2, 2, 2, 0, 1, 0, 0, 2, 0, 2, 1, 0, 2, 0, 0, 1, 0, 2,\n",
      "        2, 0, 0, 2, 2, 1, 2, 2, 1, 0, 1, 2, 2, 2, 0, 0, 2, 1, 0, 1, 0, 2, 2, 1,\n",
      "        2, 0, 2, 2, 2, 2, 0, 1, 1, 2, 2, 0, 2, 2, 1, 0])\n",
      "tensor([1, 2, 1, 0, 0, 1, 2, 2, 0, 0, 0, 2, 0, 2, 0, 2, 1, 1, 0, 2, 0, 0, 0, 2,\n",
      "        0, 2, 2, 0, 2, 2, 2, 0, 2, 0, 1, 2, 1, 0, 0, 2, 2, 0, 1, 2, 1, 1, 1, 1,\n",
      "        2, 1, 2, 1, 2, 0, 0, 2, 1, 0, 2, 0, 1, 2, 1, 1])\n",
      "tensor([0, 2, 1, 1, 2, 2, 2, 2, 2, 2, 1, 2, 0, 1, 2, 2, 2, 2, 0, 1, 1, 2, 1, 2,\n",
      "        1, 0, 2, 1, 2, 2, 2, 0, 1, 1, 0, 1, 0, 1, 0, 1, 0, 2, 0, 2, 1, 2, 0, 2,\n",
      "        0, 2, 1, 0, 0, 2, 2, 1, 2, 0, 1, 1, 0, 1, 1, 1])\n",
      "tensor([0, 0, 2, 1, 0, 0, 2, 2, 1, 2, 2, 0, 2, 0, 1, 1, 2, 0, 0, 1, 1, 1, 2, 2,\n",
      "        2, 1, 1, 0, 2, 2, 0, 2, 0, 2, 0, 2, 0, 2, 0, 0, 2, 1, 1, 1, 2, 0, 2, 2,\n",
      "        1, 0, 1, 0, 1, 1, 1, 2, 0, 2, 1, 2, 2, 0, 2, 2])\n",
      "tensor([1, 1, 0, 0, 2, 1, 1, 1, 1, 1, 0, 0, 2, 1, 1, 0, 0, 2, 1, 2, 2, 0, 0, 2,\n",
      "        2, 1, 1, 0, 1, 2, 0, 0, 0, 0, 0, 0, 1, 1, 1, 1, 0, 2, 2, 1, 2, 2, 0, 0,\n",
      "        1, 1, 0, 1, 0, 0, 1, 1, 2, 2, 0, 0, 2, 2, 1, 1])\n",
      "tensor([2, 0, 1, 2, 1, 2, 1, 0, 0, 1, 2, 2, 2, 0, 0, 0, 0, 1, 0, 2, 0, 2, 0, 1,\n",
      "        0, 2, 1, 1, 1, 1, 2, 2, 1, 0, 1, 1, 0, 1, 2, 2, 2, 0, 0, 0, 1, 1, 0, 2,\n",
      "        0, 2, 2, 0, 2, 1, 1, 0, 0, 2, 2, 1, 0, 0, 2, 2])\n",
      "tensor([1, 1, 2, 2, 0, 1, 0, 2, 2, 2, 1, 1, 0, 2, 1, 0, 2, 2, 0, 2, 1, 0, 0, 0,\n",
      "        2, 0, 2, 2, 1, 0, 2, 1, 2, 1, 2, 2, 2, 2, 0, 0, 2, 0, 0, 2, 1, 1, 2, 0,\n",
      "        1, 1, 2, 2, 1, 0, 0, 1, 0, 2, 0, 0, 2, 1, 2, 0])\n",
      "tensor([2, 2, 1, 1, 2, 0, 0, 2, 2, 1, 2, 2, 1, 2, 2, 0, 0, 2, 0, 2, 1, 0, 0, 2,\n",
      "        1, 2, 0, 2, 0, 0, 0, 0, 0, 0, 1, 2, 2, 2, 2, 2, 1, 1, 2, 0, 1, 0, 1, 2,\n",
      "        0, 0, 1, 2, 2, 2, 2, 0, 1, 0, 2, 0, 2, 1, 1, 2])\n",
      "tensor([1, 2, 2, 2, 0, 1, 2, 0, 0, 1, 1, 0, 2, 2, 0, 1, 2, 0, 0, 2, 2, 2, 0, 0,\n",
      "        0, 2, 2, 0, 0, 2, 2, 0, 2, 0, 0, 1, 1, 1, 1, 2, 1, 1, 2, 2, 2, 2, 1, 1,\n",
      "        1, 0, 2, 0, 2, 2, 2, 1, 2, 1, 2, 1, 0, 1, 0, 1])\n",
      "tensor([0, 2, 1, 1, 1, 0, 0, 0, 2, 1, 1, 0, 2, 2, 0, 1, 0, 2, 1, 0, 1, 1, 2, 1,\n",
      "        0, 2, 0, 2, 0, 2, 0, 2, 1, 0, 1, 1, 1, 0, 2, 2, 1, 1, 1, 2, 2, 2, 2, 0,\n",
      "        0, 1, 2, 2, 1, 2, 0, 2, 2, 2, 2, 0, 1, 1, 1, 0])\n",
      "tensor([0, 0, 2, 0, 2, 0, 2, 2, 0, 2, 0, 1, 2, 2, 2, 2, 1, 1, 2, 2, 2, 1, 2, 0,\n",
      "        1, 1, 1, 0, 0, 0, 0, 1, 2, 2, 2, 1, 0, 1, 1, 2, 2, 0, 0, 1, 0, 2, 0, 2,\n",
      "        2, 0, 0, 2, 0, 0, 0, 0, 1, 2, 1, 2, 1, 0, 1, 2])\n",
      "tensor([0, 0, 0, 1, 2, 2, 1, 2, 1, 0, 2, 1, 2, 0, 2, 0, 0, 2, 1, 2, 2, 2, 0, 1,\n",
      "        2, 2, 0, 0, 1, 1, 0, 1, 1, 2, 1, 0, 1, 0, 2, 1, 0, 0, 1, 2, 0, 2, 2, 1,\n",
      "        1, 2, 1, 2, 1, 0, 0, 1, 0, 0, 0, 0, 0, 0, 0, 1])\n",
      "tensor([2, 2, 2, 1, 0, 0, 2, 1, 2, 1, 2, 2, 0, 0, 1, 0, 2, 2, 1, 2, 1, 1, 1, 0,\n",
      "        0, 2, 0, 1, 2, 2, 2, 0, 0, 1, 2, 2, 2, 0, 1, 0, 0, 2, 1, 0, 2, 1, 0, 2,\n",
      "        2, 2, 0, 0, 0, 2, 2, 0, 2, 2, 0, 0, 1, 0, 0, 2])\n",
      "tensor([1, 0, 2, 1, 2, 0, 2, 0, 1, 0, 0, 2, 2, 2, 0, 0, 2, 1, 2, 2, 0, 1, 2, 1,\n",
      "        2, 2, 2, 0, 1, 0, 2, 2, 2, 0, 1, 1, 0, 0, 2, 1, 2, 1, 0, 2, 2, 2, 1, 1,\n",
      "        0, 0, 1, 2, 0, 2, 0, 0, 0, 0, 1, 0, 0, 2, 2, 2])\n",
      "tensor([2, 0, 0, 2, 2, 0, 2, 1, 2, 2, 1, 2, 2, 0, 2, 1, 0, 2, 0, 2, 2, 0, 1, 1,\n",
      "        1, 0, 2, 0, 1, 2, 2, 2, 2, 2, 0, 0, 2, 0, 1, 1, 0, 1, 1, 2, 0, 2, 2, 0,\n",
      "        0, 1, 0, 0, 2, 2, 2, 2, 2, 1, 1, 2, 2, 0, 0, 1])\n",
      "tensor([1, 2, 2, 2, 1, 1, 0, 1, 1, 0, 1, 1, 2, 2, 1, 1, 1, 0, 2, 1, 1, 0, 0, 1,\n",
      "        2, 2, 1, 2, 0, 0, 1, 0, 2, 1, 0, 0, 2, 0, 2, 1, 1, 1, 1, 1, 0, 1, 2, 2,\n",
      "        2, 1, 0, 2, 1, 1, 0, 1, 1, 0, 0, 2, 2, 2, 2, 1])\n",
      "tensor([2, 1, 2, 0, 1, 0, 0, 0, 2, 2, 2, 1, 2, 0, 0, 0, 0, 2, 0, 2, 0, 2, 2, 1,\n",
      "        2, 2, 2, 0, 2, 1, 1, 1, 2, 0, 2, 2, 2, 0, 2, 2, 2, 1, 2, 1, 1, 0, 2, 0,\n",
      "        0, 2, 0, 0, 2, 1, 2, 1, 1, 1, 0, 0, 0, 0, 1, 0])\n",
      "tensor([2, 1, 1, 0, 1, 1, 1])\n",
      "Accuracy on 1607 images: 76.9135%\n"
     ]
    }
   ],
   "source": [
    "correct = 0\n",
    "\n",
    "with torch.no_grad():\n",
    "    for inputs, labels in dataloader['test']:\n",
    "        outputs = model(inputs)\n",
    "        _, preds = torch.max(outputs, 1)\n",
    "        correct += torch.sum(preds == labels)\n",
    "        print(preds)\n",
    "    print(\"Accuracy on {} images: {:.4f}%\".format(len(dataset['test']), \n",
    "                                                correct.double()/len(dataset['test']) * 100))"
   ]
  },
  {
   "cell_type": "code",
   "execution_count": 51,
   "metadata": {},
   "outputs": [],
   "source": [
    "PATH = 'model.pt'\n",
    "torch.save(model, PATH)"
   ]
  },
  {
   "cell_type": "code",
   "execution_count": 52,
   "metadata": {},
   "outputs": [],
   "source": [
    "PATH = \"state_dict_model.pt\"\n",
    "torch.save(model.state_dict(), PATH)"
   ]
  }
 ],
 "metadata": {
  "kernelspec": {
   "display_name": "Python 3.9.9 64-bit",
   "language": "python",
   "name": "python3"
  },
  "language_info": {
   "codemirror_mode": {
    "name": "ipython",
    "version": 3
   },
   "file_extension": ".py",
   "mimetype": "text/x-python",
   "name": "python",
   "nbconvert_exporter": "python",
   "pygments_lexer": "ipython3",
   "version": "3.9.9"
  },
  "orig_nbformat": 2,
  "vscode": {
   "interpreter": {
    "hash": "aee8b7b246df8f9039afb4144a1f6fd8d2ca17a180786b69acc140d282b71a49"
   }
  }
 },
 "nbformat": 4,
 "nbformat_minor": 2
}
