{
 "cells": [
  {
   "cell_type": "code",
   "execution_count": 5,
   "metadata": {},
   "outputs": [],
   "source": [
    "import numpy as np\n",
    "import os\n",
    "from glob import glob"
   ]
  },
  {
   "cell_type": "code",
   "execution_count": 6,
   "metadata": {},
   "outputs": [
    {
     "name": "stdout",
     "output_type": "stream",
     "text": [
      "Training images:  6717\n"
     ]
    }
   ],
   "source": [
    "path = 'DATA_CHAMBER_2021'\n",
    "\n",
    "files_training = glob(os.path.join(path, 'train', '*/*.*'))\n",
    "num_imgs = len(files_training)\n",
    "print(\"Training images: \", num_imgs)"
   ]
  },
  {
   "cell_type": "code",
   "execution_count": 7,
   "metadata": {},
   "outputs": [
    {
     "name": "stdout",
     "output_type": "stream",
     "text": [
      "class             count\n",
      "-----------------------------\n",
      "  1 3C                  2309\n",
      "  2 4C                  2031\n",
      "  3 2C                  2377\n",
      "\n",
      "\n",
      "Total class:  3\n"
     ]
    }
   ],
   "source": [
    "print(\"{:18s}\".format('class'), end='')\n",
    "print('count')\n",
    "print('-'*29)\n",
    "\n",
    "class_names=[]\n",
    "for i, folder in enumerate(os.listdir(os.path.join(path, 'train')),1):\n",
    "    num = len(os.listdir(os.path.join(path, 'train', folder)))\n",
    "    print('{:3d} {:20s}'.format(i, folder), end='')\n",
    "    print(num)\n",
    "    class_names.append(folder)\n",
    "print(\"\\n\\nTotal class: \", len(class_names))"
   ]
  },
  {
   "cell_type": "code",
   "execution_count": 8,
   "metadata": {},
   "outputs": [],
   "source": [
    "import torch\n",
    "from torchvision import transforms\n",
    "from torchvision.datasets import ImageFolder\n",
    "\n",
    "tensor_transform = transforms.Compose([\n",
    "    transforms.Resize((100, 100)),\n",
    "    transforms.ToTensor()\n",
    "])\n",
    "\n",
    "all_data = ImageFolder(os.path.join(path, 'train'), tensor_transform)\n",
    "\n",
    "data_loader = torch.utils.data.DataLoader(all_data, batch_size=512, shuffle=True)"
   ]
  },
  {
   "cell_type": "code",
   "execution_count": 9,
   "metadata": {},
   "outputs": [
    {
     "name": "stdout",
     "output_type": "stream",
     "text": [
      "[0.13173419 0.12699988 0.12799497]\n",
      "[0.20536818 0.20060742 0.20181032]\n"
     ]
    }
   ],
   "source": [
    "tol_mean = []\n",
    "tol_std = []\n",
    "\n",
    "for i, data in enumerate(data_loader):\n",
    "    # tensor to numpy\n",
    "    numpy_image = data[0].numpy()\n",
    "\n",
    "    # compute mean and standard devation\n",
    "    # axis=023 bcs data[0] size is (batchsize, channels, width, height)\n",
    "    # so we want to compute mean and std of 3 channels\n",
    "    batch_mean = np.mean(numpy_image, axis=(0,2,3))\n",
    "    batch_std = np.std(numpy_image, axis=(0,2,3))\n",
    "\n",
    "    tol_mean.append(batch_mean)\n",
    "    tol_std.append(batch_std)\n",
    "    \n",
    "tol_mean = np.array(tol_mean).mean(axis=0)\n",
    "tol_std = np.array(tol_std).mean(axis=0)\n",
    "print(tol_mean)\n",
    "print(tol_std)"
   ]
  },
  {
   "cell_type": "code",
   "execution_count": 10,
   "metadata": {},
   "outputs": [],
   "source": [
    "tol_mean = [0.13173419, 0.12699988, 0.12799497]\n",
    "tol_std = [0.20536818, 0.20060742, 0.20181032]"
   ]
  },
  {
   "cell_type": "code",
   "execution_count": 11,
   "metadata": {},
   "outputs": [
    {
     "name": "stdout",
     "output_type": "stream",
     "text": [
      "Number of valid images after split: 1343\n",
      "Number of train images after split: 5374\n"
     ]
    }
   ],
   "source": [
    "np.random.seed(0)\n",
    "shuffle = np.random.permutation(num_imgs)\n",
    "split_val = int(num_imgs*0.2)\n",
    "print('Number of valid images after split:',len(shuffle[:split_val]))\n",
    "print('Number of train images after split:',len(shuffle[split_val:]))"
   ]
  },
  {
   "cell_type": "code",
   "execution_count": 12,
   "metadata": {},
   "outputs": [
    {
     "data": {
      "text/plain": [
       "['DATA_CHAMBER_2021', 'train', '2C', '029_27.jpg']"
      ]
     },
     "execution_count": 12,
     "metadata": {},
     "output_type": "execute_result"
    }
   ],
   "source": [
    "np.array([files_training[i] for i in shuffle[split_val:]])[0].split('/')"
   ]
  },
  {
   "cell_type": "code",
   "execution_count": 23,
   "metadata": {},
   "outputs": [],
   "source": [
    "from PIL import Image\n",
    "from torch.utils.data import Dataset\n",
    "\n",
    "class TrainDataset(Dataset):\n",
    "    def __init__(self, files, shuffle, spilit_val, class_names, transform=transforms.ToTensor()):\n",
    "        self.class_names = class_names\n",
    "        self.transform = transform\n",
    "        self.data = np.array([files[i] for i in shuffle[spilit_val:]])\n",
    "    def __len__(self):\n",
    "        return len(self.data)\n",
    "    def __getitem__(self, idx):\n",
    "        img = Image.open(self.data[idx])\n",
    "        img = self.transform(img)\n",
    "        name = self.data[idx].split('/')[-2]\n",
    "        y = self.class_names.index(name)\n",
    "        return img, y\n",
    "\n",
    "class ValidDataset(Dataset):\n",
    "    def __init__(self, files, shuffle, spilit_val, class_names, transform=transforms.ToTensor()):\n",
    "        self.class_names = class_names\n",
    "        self.transform = transform\n",
    "        self.data = np.array([files[i] for i in shuffle[:spilit_val]])\n",
    "    def __len__(self):\n",
    "        return len(self.data)\n",
    "    def __getitem__(self, idx):\n",
    "        img = Image.open(self.data[idx])\n",
    "        img = self.transform(img)\n",
    "        name = self.data[idx].split('/')[-2]\n",
    "        y = self.class_names.index(name) \n",
    "        return img, y\n",
    "\n",
    "class TestDataset(Dataset):\n",
    "    def __init__(self, path, class_names, transform=transforms.ToTensor()):\n",
    "        self.class_names = class_names\n",
    "        self.transform = transform\n",
    "        self.data = np.array(glob(os.path.join(path, 'test', '*/*.*')))\n",
    "    def __len__(self):\n",
    "        return len(self.data)\n",
    "    def __getitem__(self, idx):\n",
    "        img = Image.open(self.data[idx])\n",
    "        img = self.transform(img)\n",
    "        name = self.data[idx].split('/')[-2]\n",
    "        y = self.class_names.index(name)\n",
    "        return img, y"
   ]
  },
  {
   "cell_type": "code",
   "execution_count": 24,
   "metadata": {},
   "outputs": [],
   "source": [
    "data_transform = {\n",
    "    'train' : transforms.Compose([\n",
    "        transforms.Resize((100, 100)),\n",
    "        transforms.RandomHorizontalFlip(),\n",
    "        transforms.RandomVerticalFlip(),\n",
    "        transforms.ToTensor(),\n",
    "        transforms.Normalize(tol_mean, tol_std)\n",
    "    ]),\n",
    "    'valid' : transforms.Compose([\n",
    "        transforms.Resize((100, 100)),\n",
    "        transforms.ToTensor(),\n",
    "        transforms.Normalize(tol_mean, tol_std)\n",
    "    ]),\n",
    "    'test' : transforms.Compose([\n",
    "        transforms.Resize((100, 100)),\n",
    "        transforms.ToTensor(),\n",
    "        transforms.Normalize(tol_mean, tol_std)\n",
    "\n",
    "    ])\n",
    "}\n",
    "test_dataset = TestDataset(path, class_names, data_transform['test'])\n",
    "test_loader = torch.utils.data.DataLoader(test_dataset, batch_size=64, shuffle=True)"
   ]
  },
  {
   "cell_type": "code",
   "execution_count": 25,
   "metadata": {},
   "outputs": [],
   "source": [
    "train_dataset = TrainDataset(files_training, shuffle, \n",
    "                                split_val, class_names, data_transform['train'])\n",
    "valid_dataset = ValidDataset(files_training, shuffle,\n",
    "                                split_val, class_names, data_transform['valid'])\n",
    "test_dataset = TestDataset(path, class_names, data_transform['test'])\n",
    "\n",
    "train_loader = torch.utils.data.DataLoader(train_dataset, batch_size=64, shuffle=True)\n",
    "valid_loader = torch.utils.data.DataLoader(valid_dataset, batch_size=64, shuffle=True)\n",
    "test_loader = torch.utils.data.DataLoader(test_dataset, batch_size=64, shuffle=True)"
   ]
  },
  {
   "cell_type": "code",
   "execution_count": 26,
   "metadata": {},
   "outputs": [],
   "source": [
    "dataloader = {\n",
    "    'train' : train_loader,\n",
    "    'valid' : valid_loader,\n",
    "    'test' : test_loader\n",
    "}\n",
    "\n",
    "dataset = {\n",
    "    'train' : train_dataset,\n",
    "    'valid' : valid_dataset,\n",
    "    'test' : test_dataset\n",
    "}"
   ]
  },
  {
   "cell_type": "code",
   "execution_count": 27,
   "metadata": {},
   "outputs": [
    {
     "name": "stdout",
     "output_type": "stream",
     "text": [
      "(100, 100, 3)\n"
     ]
    },
    {
     "data": {
      "image/png": "[encoded data removed]",
      "text/plain": [
       "<Figure size 432x288 with 1 Axes>"
      ]
     },
     "metadata": {
      "needs_background": "light"
     },
     "output_type": "display_data"
    }
   ],
   "source": [
    "import matplotlib.pyplot as plt\n",
    "\n",
    "for images, labels in train_loader:\n",
    "    images = images.numpy()\n",
    "    temp = images[0].transpose((1,2,0))\n",
    "    print(temp.shape)\n",
    "    temp = temp * tol_std + tol_mean\n",
    "    temp = np.clip(temp, 0, 1)\n",
    "    plt.imshow(temp)\n",
    "    plt.title(class_names[labels.numpy()[0]])\n",
    "    break\n",
    "    "
   ]
  },
  {
   "cell_type": "code",
   "execution_count": 28,
   "metadata": {},
   "outputs": [],
   "source": [
    "import torch.nn as nn\n",
    "import torch.nn.functional as F\n",
    "\n",
    "class Net(nn.Module):\n",
    "    def __init__(self, num_classes):\n",
    "        super().__init__()\n",
    "        self.conv1 = nn.Conv2d(in_channels=3, out_channels=16, kernel_size=5)\n",
    "        self.conv1_bn = nn.BatchNorm2d(16)\n",
    "        self.pool = nn.MaxPool2d(kernel_size=2, stride=2)\n",
    "\n",
    "        self.conv2 = nn.Conv2d(in_channels=16, out_channels=32, kernel_size=3)\n",
    "        self.conv2_bn = nn.BatchNorm2d(32)\n",
    "\n",
    "        self.conv3 = nn.Conv2d(in_channels=32, out_channels=64, kernel_size=3)\n",
    "        self.conv3_bn = nn.BatchNorm2d(64)\n",
    "\n",
    "        self.fc1 = nn.Linear(64 * 10 * 10, 250)\n",
    "        self.fc2 = nn.Linear(250, num_classes)\n",
    "\n",
    "    def forward(self, x):\n",
    "        x = self.pool(F.relu(self.conv1_bn(self.conv1(x))))\n",
    "        x = self.pool(F.relu(self.conv2_bn(self.conv2(x))))\n",
    "        x = self.pool(F.relu(self.conv3_bn(self.conv3(x))))\n",
    "        x = x.view(-1, 64 * 10 * 10)\n",
    "        x = F.dropout(F.relu(self.fc1(x)), p=0.4)\n",
    "        x = self.fc2(x)\n",
    "\n",
    "        return F.log_softmax(x, dim=1)"
   ]
  },
  {
   "cell_type": "code",
   "execution_count": 29,
   "metadata": {},
   "outputs": [],
   "source": [
    "import torch.optim as optim\n",
    "\n",
    "# device = torch.device(\"cuda:0\")\n",
    "model = Net(len(class_names))\n",
    "# model.to(device)\n",
    "\n",
    "criterion = nn.CrossEntropyLoss()\n",
    "optimizer = optim.SGD(model.parameters(), lr=0.01)\n",
    "exp_scheduler = torch.optim.lr_scheduler.StepLR(optimizer, step_size=7, gamma=0.1)\n",
    "# lr = lr/0.1 for each 7 epoch\n"
   ]
  },
  {
   "cell_type": "code",
   "execution_count": 30,
   "metadata": {},
   "outputs": [
    {
     "name": "stdout",
     "output_type": "stream",
     "text": [
      "\n",
      "Epoch 0/29:\n",
      "train Loss: 0.926019 Accuracy: 0.560104\n",
      "valid Loss: 0.754878 Accuracy: 0.693969\n",
      "\n",
      "Epoch 1/29:\n",
      "train Loss: 0.688392 Accuracy: 0.722739\n",
      "valid Loss: 0.566437 Accuracy: 0.803425\n",
      "\n",
      "Epoch 2/29:\n",
      "train Loss: 0.497537 Accuracy: 0.823409\n",
      "valid Loss: 0.427131 Accuracy: 0.848101\n",
      "\n",
      "Epoch 3/29:\n",
      "train Loss: 0.375279 Accuracy: 0.869185\n",
      "valid Loss: 0.292589 Accuracy: 0.911392\n",
      "\n",
      "Epoch 4/29:\n",
      "train Loss: 0.281348 Accuracy: 0.913658\n",
      "valid Loss: 0.235283 Accuracy: 0.927029\n",
      "\n",
      "Epoch 5/29:\n",
      "train Loss: 0.214303 Accuracy: 0.939524\n",
      "valid Loss: 0.185692 Accuracy: 0.962025\n",
      "\n",
      "Epoch 6/29:\n",
      "train Loss: 0.155537 Accuracy: 0.969855\n",
      "valid Loss: 0.163868 Accuracy: 0.964259\n",
      "\n",
      "Epoch 7/29:\n",
      "train Loss: 0.141542 Accuracy: 0.972646\n",
      "valid Loss: 0.157719 Accuracy: 0.967238\n",
      "\n",
      "Epoch 8/29:\n",
      "train Loss: 0.136514 Accuracy: 0.971902\n",
      "valid Loss: 0.151465 Accuracy: 0.966493\n",
      "\n",
      "Epoch 9/29:\n",
      "train Loss: 0.134423 Accuracy: 0.972274\n",
      "valid Loss: 0.154164 Accuracy: 0.967238\n",
      "\n",
      "Epoch 10/29:\n",
      "train Loss: 0.128079 Accuracy: 0.972088\n",
      "valid Loss: 0.145509 Accuracy: 0.968727\n",
      "\n",
      "Epoch 11/29:\n",
      "train Loss: 0.130893 Accuracy: 0.971530\n",
      "valid Loss: 0.144490 Accuracy: 0.964259\n",
      "\n",
      "Epoch 12/29:\n",
      "train Loss: 0.125413 Accuracy: 0.973576\n",
      "valid Loss: 0.135020 Accuracy: 0.970961\n",
      "\n",
      "Epoch 13/29:\n",
      "train Loss: 0.121318 Accuracy: 0.976740\n",
      "valid Loss: 0.140165 Accuracy: 0.973939\n",
      "\n",
      "Epoch 14/29:\n",
      "train Loss: 0.120288 Accuracy: 0.977670\n",
      "valid Loss: 0.133671 Accuracy: 0.977662\n",
      "\n",
      "Epoch 15/29:\n",
      "train Loss: 0.120986 Accuracy: 0.978415\n",
      "valid Loss: 0.132589 Accuracy: 0.969471\n",
      "\n",
      "Epoch 16/29:\n",
      "train Loss: 0.120759 Accuracy: 0.975996\n",
      "valid Loss: 0.133065 Accuracy: 0.974684\n",
      "\n",
      "Epoch 17/29:\n",
      "train Loss: 0.122495 Accuracy: 0.978229\n",
      "valid Loss: 0.134376 Accuracy: 0.973194\n",
      "\n",
      "Epoch 18/29:\n",
      "train Loss: 0.116760 Accuracy: 0.978601\n",
      "valid Loss: 0.134349 Accuracy: 0.979151\n",
      "\n",
      "Epoch 19/29:\n",
      "train Loss: 0.119029 Accuracy: 0.975809\n",
      "valid Loss: 0.133691 Accuracy: 0.973939\n",
      "\n",
      "Epoch 20/29:\n",
      "train Loss: 0.116532 Accuracy: 0.980089\n",
      "valid Loss: 0.138149 Accuracy: 0.974684\n",
      "\n",
      "Epoch 21/29:\n",
      "train Loss: 0.116418 Accuracy: 0.979717\n",
      "valid Loss: 0.132597 Accuracy: 0.979151\n",
      "\n",
      "Epoch 22/29:\n",
      "train Loss: 0.116126 Accuracy: 0.980089\n",
      "valid Loss: 0.132370 Accuracy: 0.975428\n",
      "\n",
      "Epoch 23/29:\n",
      "train Loss: 0.116141 Accuracy: 0.979159\n",
      "valid Loss: 0.133467 Accuracy: 0.974684\n",
      "\n",
      "Epoch 24/29:\n",
      "train Loss: 0.118798 Accuracy: 0.977112\n",
      "valid Loss: 0.134631 Accuracy: 0.973194\n",
      "\n",
      "Epoch 25/29:\n",
      "train Loss: 0.118324 Accuracy: 0.976740\n",
      "valid Loss: 0.130196 Accuracy: 0.975428\n",
      "\n",
      "Epoch 26/29:\n",
      "train Loss: 0.118645 Accuracy: 0.976554\n",
      "valid Loss: 0.136553 Accuracy: 0.974684\n",
      "\n",
      "Epoch 27/29:\n",
      "train Loss: 0.117354 Accuracy: 0.978601\n",
      "valid Loss: 0.134142 Accuracy: 0.979151\n",
      "\n",
      "Epoch 28/29:\n",
      "train Loss: 0.117266 Accuracy: 0.978973\n",
      "valid Loss: 0.132764 Accuracy: 0.977662\n",
      "\n",
      "Epoch 29/29:\n",
      "train Loss: 0.116079 Accuracy: 0.978042\n",
      "valid Loss: 0.134476 Accuracy: 0.979151\n",
      "\n",
      "Complete training in 0h 48m\n"
     ]
    }
   ],
   "source": [
    "dataloader = {\n",
    "    'train' : train_loader,\n",
    "    'valid' : valid_loader,\n",
    "    'test' : test_loader\n",
    "}\n",
    "\n",
    "dataset = {\n",
    "    'train' : train_dataset,\n",
    "    'valid' : valid_dataset,\n",
    "    'test' : test_dataset\n",
    "}\n",
    "\n",
    "import time\n",
    "import copy\n",
    "\n",
    "def fit(model, criterion, optimizer, scheduler, num_epochs=30):\n",
    "\n",
    "    history = {\n",
    "        'train': list(),\n",
    "        'valid': list()\n",
    "    }\n",
    "\n",
    "    history_acc = {\n",
    "        'train': list(),\n",
    "        'valid': list()\n",
    "    }\n",
    "\n",
    "    begin = time.time()\n",
    "    best_acc = 0.0\n",
    "    for epoch in range(num_epochs):\n",
    "        print(\"\\nEpoch {}/{}:\".format(epoch, num_epochs-1))\n",
    "\n",
    "        for phase in ['train', 'valid']:\n",
    "            if phase == 'train':\n",
    "                scheduler.step()\n",
    "                model.train() # enable dropout & batchnorm\n",
    "            else:\n",
    "                model.eval() # disable dropout & batchnorm\n",
    "\n",
    "            running_loss = 0.0\n",
    "            running_acc = 0\n",
    "            for inputs, labels in dataloader[phase]:\n",
    "                \n",
    "                optimizer.zero_grad()\n",
    "                \n",
    "                with torch.set_grad_enabled(phase == 'train'):\n",
    "                    outputs = model(inputs)\n",
    "                    _, preds = torch.max(outputs, 1)\n",
    "                    # max with dim=1, return: value & index\n",
    "                    # just need index to compare with labels\n",
    "\n",
    "                    loss = criterion(outputs, labels)\n",
    "\n",
    "                    if phase == 'train':\n",
    "                        loss.backward()\n",
    "                        optimizer.step()\n",
    "                running_loss += loss.item() * inputs.size(0)\n",
    "                running_acc += torch.sum(preds == labels)\n",
    "\n",
    "            phase_loss = running_loss / len(dataset[phase])\n",
    "            history[phase].append(phase_loss)\n",
    "            phase_acc = running_acc / len(dataset[phase])\n",
    "            history_acc[phase].append(float(phase_acc))\n",
    "\n",
    "            print(\"{} Loss: {:4f} Accuracy: {:4f}\".format(phase, phase_loss, phase_acc))\n",
    "\n",
    "            if phase == 'valid' and phase_acc > best_acc:\n",
    "                best_acc = phase_acc\n",
    "                best_model = copy.deepcopy(model.state_dict())\n",
    "\n",
    "    end = time.time() - begin\n",
    "    h = end//3600\n",
    "    m = (end - h*3600)//60\n",
    "    print(\"\\nComplete training in {:.0f}h {:.0f}m\".format(h, m))\n",
    "\n",
    "    import json\n",
    "\n",
    "    history_file = open('history_acc.json', \"w\")\n",
    "    json.dump(history_acc, history_file)\n",
    "    history_file.close()\n",
    "\n",
    "    history_file = open('history.json', \"w\")\n",
    "    json.dump(history, history_file)\n",
    "    history_file.close()\n",
    "    \n",
    "    model.load_state_dict(best_model)\n",
    "    return model\n",
    "                \n",
    "model = fit(model, criterion, optimizer, exp_scheduler, num_epochs=30)"
   ]
  },
  {
   "cell_type": "code",
   "execution_count": 31,
   "metadata": {},
   "outputs": [
    {
     "data": {
      "image/png": "[encoded data removed]",
      "text/plain": [
       "<Figure size 432x288 with 1 Axes>"
      ]
     },
     "metadata": {
      "needs_background": "light"
     },
     "output_type": "display_data"
    }
   ],
   "source": [
    "import json\n",
    "\n",
    "history_path = 'history.json'\n",
    "\n",
    "history_file = open(history_path, \"r\")\n",
    "history = history_file.read()\n",
    "history_file.close()\n",
    "\n",
    "history = json.loads(history)\n",
    "\n",
    "import matplotlib.pyplot as plt\n",
    "plt.plot(history['train'])\n",
    "plt.plot(history['valid'])\n",
    "plt.legend(['train loss', 'valid loss'])\n",
    "plt.show()"
   ]
  },
  {
   "cell_type": "code",
   "execution_count": 32,
   "metadata": {},
   "outputs": [
    {
     "data": {
      "image/png": "[encoded data removed]",
      "text/plain": [
       "<Figure size 432x288 with 1 Axes>"
      ]
     },
     "metadata": {
      "needs_background": "light"
     },
     "output_type": "display_data"
    }
   ],
   "source": [
    "import json\n",
    "\n",
    "history_path = 'history_acc.json'\n",
    "\n",
    "history_file = open(history_path, \"r\")\n",
    "history = history_file.read()\n",
    "history_file.close()\n",
    "\n",
    "history = json.loads(history)\n",
    "\n",
    "import matplotlib.pyplot as plt\n",
    "plt.plot(history['train'])\n",
    "plt.plot(history['valid'])\n",
    "plt.legend(['train accuracy', 'valid accuracy'])\n",
    "plt.show()"
   ]
  },
  {
   "cell_type": "code",
   "execution_count": 23,
   "metadata": {},
   "outputs": [
    {
     "name": "stdout",
     "output_type": "stream",
     "text": [
      "tensor([0, 1, 0, 0, 2, 0, 2, 2, 2, 0, 1, 1, 2, 0, 0, 2, 0, 1, 2, 1, 1, 1, 0, 2,\n",
      "        0, 2, 1, 2, 0, 2, 2, 2, 0, 2, 2, 0, 2, 1, 1, 2, 2, 1, 1, 2, 1, 0, 0, 1,\n",
      "        0, 1, 2, 0, 2, 0, 0, 0, 2, 1, 0, 1, 2, 2, 2, 0])\n",
      "tensor([2, 0, 2, 2, 0, 1, 1, 1, 1, 1, 0, 0, 1, 1, 2, 2, 1, 1, 0, 0, 2, 0, 1, 1,\n",
      "        2, 2, 1, 2, 1, 2, 0, 0, 1, 2, 1, 1, 2, 2, 1, 0, 0, 1, 0, 2, 0, 0, 0, 2,\n",
      "        1, 0, 1, 2, 2, 2, 0, 1, 1, 2, 1, 2, 0, 2, 0, 2])\n",
      "tensor([0, 1, 0, 1, 2, 1, 2, 1, 1, 2, 0, 1, 1, 0, 0, 1, 2, 0, 2, 0, 0, 1, 2, 1,\n",
      "        1, 0, 1, 2, 0, 1, 1, 0, 2, 2, 2, 2, 1, 1, 2, 2, 2, 2, 2, 2, 2, 2, 0, 1,\n",
      "        0, 2, 2, 2, 2, 1, 2, 2, 2, 2, 1, 0, 2, 2, 2, 1])\n",
      "tensor([2, 0, 2, 1, 2, 1, 0, 1, 2, 1, 0, 1, 0, 2, 2, 1, 0, 1, 2, 2, 2, 0, 2, 0,\n",
      "        0, 0, 1, 1, 0, 0, 2, 2, 2, 1, 1, 1, 2, 2, 0, 0, 1, 1, 0, 1, 2, 2, 1, 0,\n",
      "        0, 2, 0, 2, 0, 2, 0, 0, 0, 0, 1, 1, 1, 0, 2, 0])\n",
      "tensor([1, 2, 0, 1, 1, 1, 0, 2, 1, 0, 0, 0, 0, 2, 1, 1, 0, 2, 1, 1, 0, 2, 0, 1,\n",
      "        1, 0, 2, 1, 1, 0, 1, 0, 2, 2, 0, 1, 2, 1, 2, 0, 0, 1, 2, 1, 0, 2, 0, 2,\n",
      "        2, 2, 0, 0, 0, 0, 2, 1, 2, 2, 0, 1, 0, 0, 1, 1])\n",
      "tensor([0, 1, 2, 1, 2, 1, 2, 0, 1, 1, 0, 2, 0, 1, 0, 2, 1, 1, 1, 1, 0, 1, 2, 1,\n",
      "        1, 2, 2, 2, 0, 1, 1, 1, 0, 1, 1, 0, 2, 0, 1, 2, 1, 2, 2, 2, 0, 1, 2, 0,\n",
      "        0, 1, 2, 0, 2, 0, 0, 1, 2, 1, 1, 2, 2, 1, 2, 2])\n",
      "tensor([0, 2, 1, 1, 2, 1, 2, 1, 2, 2, 1, 1, 2, 1, 1, 2, 1, 1, 1, 2, 1, 2, 0, 2,\n",
      "        0, 2, 0, 1, 2, 1, 0, 2, 2, 2, 1, 1, 0, 2, 1, 2, 2, 0, 2, 1, 2, 2, 0, 0,\n",
      "        0, 2, 1, 2, 1, 0, 2, 1, 0, 0, 0, 0, 1, 1, 0, 0])\n",
      "tensor([0, 2, 2, 0, 2, 0, 1, 2, 1, 0, 1, 0, 2, 0, 0, 2, 2, 2, 2, 2, 1, 0, 2, 1,\n",
      "        2, 0, 2, 0, 1, 2, 2, 1, 1, 0, 2, 2, 2, 0, 1, 2, 2, 0, 1, 0, 2, 1, 1, 2,\n",
      "        0, 1, 0, 0, 2, 1, 1, 0, 1, 2, 2, 2, 0, 0, 0, 0])\n",
      "tensor([1, 2, 2, 2, 1, 0, 2, 2, 1, 2, 1, 1, 1, 1, 0, 0, 1, 0, 2, 2, 1, 0, 0, 1,\n",
      "        1, 0, 0, 2, 0, 2, 0, 2, 1, 2, 2, 2, 2, 1, 1, 2, 2, 2, 1, 2, 2, 2, 2, 1,\n",
      "        0, 0, 0, 0, 1, 1, 2, 0, 0, 2, 0, 0, 2, 2, 1, 0])\n",
      "tensor([1, 0, 2, 1, 0, 0, 1, 2, 2, 0, 2, 0, 2, 2, 2, 2, 1, 1, 1, 1, 0, 0, 1, 2,\n",
      "        0, 2, 2, 1, 2, 2, 2, 1, 2, 2, 0, 2, 2, 2, 2, 1, 0, 2, 0, 0, 2, 1, 0, 0,\n",
      "        2, 0, 2, 2, 2, 1, 2, 0, 2, 2, 2, 2, 1, 1, 0, 1])\n",
      "tensor([0, 2, 0, 1, 0, 0, 1, 1, 0, 2, 2, 0, 0, 0, 0, 0, 1, 1, 2, 2, 2, 2, 0, 2,\n",
      "        2, 1, 2, 2, 2, 0, 0, 2, 0, 2, 2, 1, 2, 2, 0, 1, 2, 0, 2, 2, 2, 1, 1, 2,\n",
      "        0, 2, 1, 1, 1, 1, 2, 0, 2, 0, 1, 2, 0, 2, 2, 1])\n",
      "tensor([2, 2, 0, 0, 2, 1, 2, 1, 0, 1, 2, 1, 0, 2, 0, 0, 2, 0, 2, 0, 1, 2, 2, 2,\n",
      "        0, 0, 0, 2, 1, 2, 1, 2, 2, 0, 0, 2, 1, 1, 0, 2, 1, 2, 1, 2, 2, 0, 0, 2,\n",
      "        2, 2, 0, 0, 0, 0, 2, 1, 2, 0, 2, 2, 2, 0, 1, 1])\n",
      "tensor([2, 2, 0, 2, 2, 0, 0, 1, 2, 2, 1, 0, 2, 0, 1, 0, 0, 1, 0, 2, 1, 2, 1, 1,\n",
      "        0, 2, 1, 0, 1, 1, 0, 0, 2, 2, 2, 1, 2, 0, 2, 0, 0, 0, 1, 1, 1, 2, 1, 2,\n",
      "        2, 1, 1, 0, 2, 0, 1, 1, 2, 1, 0, 0, 0, 1, 2, 2])\n",
      "tensor([2, 2, 1, 1, 0, 2, 0, 1, 1, 1, 0, 1, 2, 2, 0, 1, 1, 2, 1, 1, 1, 2, 1, 0,\n",
      "        0, 0, 1, 1, 0, 0, 0, 2, 2, 2, 0, 2, 2, 0, 1, 2, 0, 1, 2, 0, 0, 2, 1, 0,\n",
      "        2, 2, 1, 2, 2, 0, 0, 2, 1, 1, 0, 2, 1, 1, 0, 0])\n",
      "tensor([0, 2, 2, 2, 2, 0, 0, 0, 2, 0, 0, 1, 1, 0, 2, 1, 0, 0, 2, 2, 2, 0, 0, 1,\n",
      "        2, 0, 2, 1, 1, 1, 2, 0, 0, 0, 2, 1, 1, 1, 2, 2, 0, 2, 2, 1, 1, 2, 1, 0,\n",
      "        2, 1, 2, 0, 2, 2, 2, 2, 0, 2, 0, 1, 2, 2, 2, 0])\n",
      "tensor([2, 0, 2, 0, 1, 2, 2, 2, 0, 2, 2, 2, 0, 2, 2, 0, 2, 2, 0, 0, 0, 0, 1, 0,\n",
      "        1, 1, 0, 0, 2, 0, 1, 0, 1, 2, 1, 0, 2, 1, 2, 2, 0, 1, 2, 0, 2, 2, 1, 2,\n",
      "        0, 0, 0, 1, 2, 2, 0, 1, 0, 1, 0, 2, 1, 2, 0, 1])\n",
      "tensor([0, 2, 0, 1, 2, 1, 2, 0, 1, 0, 2, 2, 0, 2, 0, 1, 2, 2, 2, 0, 0, 0, 2, 0,\n",
      "        2, 0, 2, 2, 2, 0, 1, 1, 2, 2, 2, 1, 1, 2, 0, 1, 0, 0, 2, 1, 2, 1, 2, 1,\n",
      "        0, 2, 1, 0, 0, 0, 2, 0, 0, 1, 1, 1, 2, 0, 0, 1])\n",
      "tensor([0, 1, 0, 2, 0, 2, 0, 2, 0, 2, 2, 0, 0, 2, 2, 2, 2, 0, 1, 1, 2, 2, 0, 0,\n",
      "        0, 1, 0, 0, 2, 0, 0, 2, 2, 2, 2, 1, 0, 2, 1, 1, 2, 2, 0, 2, 2, 0, 2, 2,\n",
      "        2, 0, 2, 2, 0, 1, 0, 1, 2, 0, 2, 2, 0, 1, 1, 1])\n",
      "tensor([2, 0, 2, 2, 2, 2, 0, 2, 2, 0, 2, 2, 1, 1, 0, 0, 2, 2, 2, 0, 1, 1, 0, 0,\n",
      "        0, 2, 0, 2, 2, 1, 0, 2, 0, 0, 0, 0, 0, 0, 2, 1, 0, 2, 2, 0, 1, 0, 2, 1,\n",
      "        2, 2, 0, 2, 0, 0, 0, 0, 0, 0, 1, 1, 0, 0, 2, 2])\n",
      "tensor([0, 2, 0, 2, 1, 0, 2, 0, 2, 0, 0, 2, 2, 2, 2, 2, 2, 2, 1, 0, 1, 2, 1, 0,\n",
      "        0, 0, 1, 2, 0, 1, 2, 2, 2, 1, 0, 2, 2, 0, 2, 2, 2, 2, 0, 0, 1, 0, 0, 1,\n",
      "        2, 2, 2, 0, 0, 0, 1, 2, 2, 1, 2, 2, 0, 0, 0, 0])\n",
      "tensor([1, 1, 2, 2, 2, 0, 0, 1, 0, 0, 1, 2, 2, 2, 2, 2, 2, 2, 2, 2, 1, 2, 2, 0,\n",
      "        0, 0, 0, 0, 2, 2, 2, 1, 0, 2, 2, 2, 2, 0, 1, 2, 2, 2, 2, 2, 1, 1, 2, 2,\n",
      "        0, 0, 0, 0, 2, 2, 0, 0, 0, 2, 0, 1, 2, 1, 0, 0])\n",
      "tensor([2, 2, 0, 2, 2, 0, 2, 2, 1, 2, 1, 0, 0, 1, 0, 0, 2, 0, 0, 0, 0, 0, 0, 1,\n",
      "        1, 0, 2, 2, 2, 1, 1, 1, 2, 1, 0, 2, 0, 1, 2, 0, 2, 1, 1, 2, 1, 2, 2, 2,\n",
      "        2, 0, 0, 1, 1, 1, 2, 2, 0, 0, 0, 1, 1, 0, 1, 1])\n",
      "tensor([1, 1, 2, 2, 1, 0, 2, 2, 1, 0, 1, 0, 1, 1, 1, 1, 2, 0, 2, 0, 2, 0, 0, 0,\n",
      "        2, 2, 1, 0, 0, 2, 2, 1, 2, 1, 2, 0, 0, 1, 0, 2, 2, 0, 2, 2, 2, 1, 2, 1,\n",
      "        0, 1, 1, 2, 0, 1, 1, 2, 1, 1, 2, 0, 2, 1, 1, 2])\n",
      "tensor([2, 2, 1, 2, 1, 0, 1, 2, 1, 0, 2, 2, 1, 0, 2, 0, 0, 0, 0, 1, 2, 0, 2, 1,\n",
      "        0, 1, 0, 2, 2, 0, 1, 1, 2, 2, 2, 2, 1, 2, 2, 1, 0, 1, 2, 2, 1, 0, 0, 2,\n",
      "        2, 0, 2, 1, 0, 0, 0, 1, 0, 2, 2, 1, 2, 1, 2, 1])\n",
      "tensor([2, 2, 1, 1, 0, 2, 1, 1, 2, 0, 1, 1, 2, 1, 2, 2, 0, 2, 2, 2, 0, 0, 2, 0,\n",
      "        0, 2, 2, 0, 1, 2, 2, 0, 0, 2, 0, 0, 2, 2, 0, 0, 1, 1, 1, 0, 2, 2, 0, 2,\n",
      "        0, 0, 2, 2, 0, 0, 1, 2, 1, 1, 0, 1, 0, 2, 2, 1])\n",
      "tensor([0, 0, 0, 2, 1, 0, 1])\n",
      "Accuracy on 1607 images: 73.3043%\n"
     ]
    }
   ],
   "source": [
    "correct = 0\n",
    "\n",
    "with torch.no_grad():\n",
    "    for inputs, labels in dataloader['test']:\n",
    "        outputs = model(inputs)\n",
    "        _, preds = torch.max(outputs, 1)\n",
    "        correct += torch.sum(preds == labels)\n",
    "        print(preds)\n",
    "    print(\"Accuracy on {} images: {:.4f}%\".format(len(dataset['test']), \n",
    "                                                correct.double()/len(dataset['test']) * 100))"
   ]
  },
  {
   "cell_type": "code",
   "execution_count": 33,
   "metadata": {},
   "outputs": [],
   "source": [
    "PATH = 'model.pt'\n",
    "torch.save(model, PATH)"
   ]
  },
  {
   "cell_type": "code",
   "execution_count": 34,
   "metadata": {},
   "outputs": [],
   "source": [
    "PATH = \"state_dict_model.pt\"\n",
    "torch.save(model.state_dict(), PATH)"
   ]
  },
  {
   "cell_type": "code",
   "execution_count": 36,
   "metadata": {},
   "outputs": [
    {
     "name": "stdout",
     "output_type": "stream",
     "text": [
      "tensor([-0.0827], grad_fn=<MaxBackward0>)\n",
      "tensor([2])\n",
      "2\n",
      "2C\n"
     ]
    }
   ],
   "source": [
    "model = Net(3)\n",
    "\n",
    "model.load_state_dict(torch.load(\"state_dict_model.pt\"))\n",
    "model.eval()\n",
    "\n",
    "import torch\n",
    "from torchvision import transforms\n",
    "from PIL import Image\n",
    "\n",
    "img_path = '158_0.jpg'\n",
    "image = Image.open(img_path)\n",
    "tol_mean = [0.13293989, 0.12811673, 0.12916328]\n",
    "tol_std = [0.2062751,  0.20142326, 0.20266032]\n",
    "\n",
    "transform = transforms.Compose([transforms.Resize((100, 100)),\n",
    "                                transforms.ToTensor(),\n",
    "                                transforms.Normalize(tol_mean, tol_std)\n",
    "                                ])\n",
    "image = transform(image)\n",
    "image = image.unsqueeze(0)\n",
    "\n",
    "val, pred = torch.max(model(image), 1)\n",
    "print(val)\n",
    "print(pred)\n",
    "print(pred.item())\n",
    "print(class_names[pred.item()])"
   ]
  },
  {
   "cell_type": "code",
   "execution_count": null,
   "metadata": {},
   "outputs": [],
   "source": []
  }
 ],
 "metadata": {
  "kernelspec": {
   "display_name": "Python 3.9.9 64-bit",
   "language": "python",
   "name": "python3"
  },
  "language_info": {
   "codemirror_mode": {
    "name": "ipython",
    "version": 3
   },
   "file_extension": ".py",
   "mimetype": "text/x-python",
   "name": "python",
   "nbconvert_exporter": "python",
   "pygments_lexer": "ipython3",
   "version": "3.9.9"
  },
  "orig_nbformat": 2,
  "vscode": {
   "interpreter": {
    "hash": "aee8b7b246df8f9039afb4144a1f6fd8d2ca17a180786b69acc140d282b71a49"
   }
  }
 },
 "nbformat": 4,
 "nbformat_minor": 2
}
